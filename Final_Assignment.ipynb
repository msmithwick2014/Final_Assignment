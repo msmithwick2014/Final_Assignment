{
 "cells": [
  {
   "cell_type": "markdown",
   "id": "30a70464-df90-4883-aa22-6013520099e3",
   "metadata": {},
   "source": [
    "# Data Science Tools and Ecosystem"
   ]
  },
  {
   "cell_type": "markdown",
   "id": "a3d4ed54-b6ef-4bd0-ba52-ece70a5a0c85",
   "metadata": {},
   "source": [
    "In this notebook, Data science Tools and Ecosystem are summarized"
   ]
  },
  {
   "cell_type": "markdown",
   "id": "321d4845-e350-4cd5-82d2-2662e8dde9f9",
   "metadata": {},
   "source": [
    "Some of the popular languages that data scientists use are:\n",
    "1. Python\n",
    "2. R Studio\n",
    "3. SQL "
   ]
  },
  {
   "cell_type": "markdown",
   "id": "3f505ef6-c5b3-423d-936c-ba909f27c0db",
   "metadata": {},
   "source": [
    "Some of the commonly used libraries by Data Scientists include:\n",
    "\n",
    "1. NumPy\n",
    "2. matplotlib\n",
    "3. TensorFlow \n",
    "4. Seaborn"
   ]
  },
  {
   "cell_type": "markdown",
   "id": "66f7f221-6df2-4d86-9635-243a8c7a23bf",
   "metadata": {},
   "source": [
    "|Data Science Tools|\n",
    "|-----------------|\n",
    "|Jupyter Notebook|\n",
    "|RStudio|\n",
    "|Visual Studio Code|"
   ]
  },
  {
   "cell_type": "markdown",
   "id": "7daa0d53-12df-4fd2-b0eb-78e2e459751e",
   "metadata": {},
   "source": [
    "### Below are a few examples of evaluating arithmetic expresiions in Python"
   ]
  },
  {
   "cell_type": "code",
   "execution_count": 3,
   "id": "8657c065-722f-48e0-bee6-2ff0c2e58f1f",
   "metadata": {},
   "outputs": [
    {
     "data": {
      "text/plain": [
       "17"
      ]
     },
     "execution_count": 3,
     "metadata": {},
     "output_type": "execute_result"
    }
   ],
   "source": [
    "#This is a simple arithmetic expression to multiple, then add integers\n",
    "(3*4)+5"
   ]
  },
  {
   "cell_type": "code",
   "execution_count": 4,
   "id": "04ee2d52-ea13-4720-a457-55a3a967d5a9",
   "metadata": {},
   "outputs": [
    {
     "data": {
      "text/plain": [
       "3.3333333333333335"
      ]
     },
     "execution_count": 4,
     "metadata": {},
     "output_type": "execute_result"
    }
   ],
   "source": [
    "#This will convert 200 mintutes to hours by dividing by 60\n",
    "200/60"
   ]
  },
  {
   "cell_type": "markdown",
   "id": "c67a35f6-eec6-4441-853a-6ada5ed766fe",
   "metadata": {},
   "source": [
    "# **Objectives**\n",
    "* List popular languages for Data Science\n",
    "* List popular tools in Data Science\n",
    "* List popular libraries in Data Science"
   ]
  },
  {
   "cell_type": "markdown",
   "id": "329ef967-a812-45a8-b227-8008455c479c",
   "metadata": {},
   "source": [
    "## Author\n",
    "Megan"
   ]
  }
 ],
 "metadata": {
  "kernelspec": {
   "display_name": "projectname",
   "language": "python",
   "name": "projectname"
  },
  "language_info": {
   "codemirror_mode": {
    "name": "ipython",
    "version": 3
   },
   "file_extension": ".py",
   "mimetype": "text/x-python",
   "name": "python",
   "nbconvert_exporter": "python",
   "pygments_lexer": "ipython3",
   "version": "3.13.0"
  }
 },
 "nbformat": 4,
 "nbformat_minor": 5
}
